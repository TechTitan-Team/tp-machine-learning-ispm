{
 "cells": [
  {
   "cell_type": "code",
   "execution_count": 20,
   "id": "e86f702d-f6cc-42a2-a5bf-3edb83af26ed",
   "metadata": {},
   "outputs": [
    {
     "data": {
      "text/html": [
       "<div>\n",
       "<style scoped>\n",
       "    .dataframe tbody tr th:only-of-type {\n",
       "        vertical-align: middle;\n",
       "    }\n",
       "\n",
       "    .dataframe tbody tr th {\n",
       "        vertical-align: top;\n",
       "    }\n",
       "\n",
       "    .dataframe thead th {\n",
       "        text-align: right;\n",
       "    }\n",
       "</style>\n",
       "<table border=\"1\" class=\"dataframe\">\n",
       "  <thead>\n",
       "    <tr style=\"text-align: right;\">\n",
       "      <th></th>\n",
       "      <th>Pregnancies</th>\n",
       "      <th>Glucose</th>\n",
       "      <th>BloodPressure</th>\n",
       "      <th>SkinThickness</th>\n",
       "      <th>Insulin</th>\n",
       "      <th>BMI</th>\n",
       "      <th>DiabetesPedigreeFunction</th>\n",
       "      <th>Age</th>\n",
       "      <th>Outcome</th>\n",
       "    </tr>\n",
       "  </thead>\n",
       "  <tbody>\n",
       "    <tr>\n",
       "      <th>0</th>\n",
       "      <td>6</td>\n",
       "      <td>148</td>\n",
       "      <td>72</td>\n",
       "      <td>35</td>\n",
       "      <td>0</td>\n",
       "      <td>33.6</td>\n",
       "      <td>0.627</td>\n",
       "      <td>50</td>\n",
       "      <td>1</td>\n",
       "    </tr>\n",
       "    <tr>\n",
       "      <th>1</th>\n",
       "      <td>1</td>\n",
       "      <td>85</td>\n",
       "      <td>66</td>\n",
       "      <td>29</td>\n",
       "      <td>0</td>\n",
       "      <td>26.6</td>\n",
       "      <td>0.351</td>\n",
       "      <td>31</td>\n",
       "      <td>0</td>\n",
       "    </tr>\n",
       "    <tr>\n",
       "      <th>2</th>\n",
       "      <td>8</td>\n",
       "      <td>183</td>\n",
       "      <td>64</td>\n",
       "      <td>0</td>\n",
       "      <td>0</td>\n",
       "      <td>23.3</td>\n",
       "      <td>0.672</td>\n",
       "      <td>32</td>\n",
       "      <td>1</td>\n",
       "    </tr>\n",
       "    <tr>\n",
       "      <th>3</th>\n",
       "      <td>1</td>\n",
       "      <td>89</td>\n",
       "      <td>66</td>\n",
       "      <td>23</td>\n",
       "      <td>94</td>\n",
       "      <td>28.1</td>\n",
       "      <td>0.167</td>\n",
       "      <td>21</td>\n",
       "      <td>0</td>\n",
       "    </tr>\n",
       "    <tr>\n",
       "      <th>4</th>\n",
       "      <td>0</td>\n",
       "      <td>137</td>\n",
       "      <td>40</td>\n",
       "      <td>35</td>\n",
       "      <td>168</td>\n",
       "      <td>43.1</td>\n",
       "      <td>2.288</td>\n",
       "      <td>33</td>\n",
       "      <td>1</td>\n",
       "    </tr>\n",
       "  </tbody>\n",
       "</table>\n",
       "</div>"
      ],
      "text/plain": [
       "   Pregnancies  Glucose  BloodPressure  SkinThickness  Insulin   BMI  \\\n",
       "0            6      148             72             35        0  33.6   \n",
       "1            1       85             66             29        0  26.6   \n",
       "2            8      183             64              0        0  23.3   \n",
       "3            1       89             66             23       94  28.1   \n",
       "4            0      137             40             35      168  43.1   \n",
       "\n",
       "   DiabetesPedigreeFunction  Age  Outcome  \n",
       "0                     0.627   50        1  \n",
       "1                     0.351   31        0  \n",
       "2                     0.672   32        1  \n",
       "3                     0.167   21        0  \n",
       "4                     2.288   33        1  "
      ]
     },
     "execution_count": 20,
     "metadata": {},
     "output_type": "execute_result"
    }
   ],
   "source": [
    "# 1. Chargement des données\n",
    "import pandas as pd\n",
    "\n",
    "# Chargement du dataset\n",
    "df = pd.read_csv('diabetes.csv')\n",
    "df.head()"
   ]
  },
  {
   "cell_type": "code",
   "execution_count": 21,
   "id": "6edb857b-6fb0-45eb-8cab-d6caa418485c",
   "metadata": {},
   "outputs": [
    {
     "name": "stdout",
     "output_type": "stream",
     "text": [
      "Pregnancies                 0\n",
      "Glucose                     0\n",
      "BloodPressure               0\n",
      "SkinThickness               0\n",
      "Insulin                     0\n",
      "BMI                         0\n",
      "DiabetesPedigreeFunction    0\n",
      "Age                         0\n",
      "Outcome                     0\n",
      "dtype: int64\n"
     ]
    }
   ],
   "source": [
    "# 2. Nettoyage et prétraitement\n",
    "import numpy as np\n",
    "\n",
    "# Colonnes où zéro indique une valeur manquante\n",
    "cols_missing = ['Glucose', 'BloodPressure', 'SkinThickness', 'Insulin', 'BMI']\n",
    "\n",
    "# Remplacer les zéros par NaN\n",
    "df[cols_missing] = df[cols_missing].replace(0, np.nan)\n",
    "\n",
    "# Imputer les valeurs manquantes par la médiane\n",
    "df.fillna(df.median(), inplace=True)\n",
    "\n",
    "# Vérification des valeurs manquantes après imputation\n",
    "print(df.isnull().sum())"
   ]
  },
  {
   "cell_type": "code",
   "execution_count": 22,
   "id": "79cfa2f2-8ec3-4207-9e76-84b9b79d70ea",
   "metadata": {},
   "outputs": [
    {
     "data": {
      "image/png": "[encoded data removed]",
      "text/plain": [
       "<Figure size 640x480 with 1 Axes>"
      ]
     },
     "metadata": {},
     "output_type": "display_data"
    },
    {
     "name": "stdout",
     "output_type": "stream",
     "text": [
      "         Pregnancies     Glucose  BloodPressure  SkinThickness     Insulin  \\\n",
      "Outcome                                                                      \n",
      "0           3.298000  110.682000      70.920000      27.726000  127.792000   \n",
      "1           4.865672  142.130597      75.123134      31.686567  164.701493   \n",
      "\n",
      "               BMI  DiabetesPedigreeFunction        Age  \n",
      "Outcome                                                  \n",
      "0        30.885600                  0.429734  31.190000  \n",
      "1        35.383582                  0.550500  37.067164  \n"
     ]
    }
   ],
   "source": [
    "# 3. EDA et gestion du déséquilibre\n",
    "import matplotlib.pyplot as plt\n",
    "import seaborn as sns\n",
    "\n",
    "# Distribution des classes\n",
    "sns.countplot(x='Outcome', data=df)\n",
    "plt.title('Distribution des classes')\n",
    "plt.show()\n",
    "\n",
    "# Statistiques descriptives par classe\n",
    "print(df.groupby('Outcome').mean())\n"
   ]
  },
  {
   "cell_type": "code",
   "execution_count": 26,
   "id": "3ef87db4-7586-4413-b217-e6af5c674965",
   "metadata": {},
   "outputs": [
    {
     "name": "stdout",
     "output_type": "stream",
     "text": [
      "Validation Accuracy: 0.7792207792207793\n",
      "Validation Precision: 0.6612903225806451\n",
      "Validation Recall: 0.7592592592592593\n",
      "Validation F1 Score: 0.7068965517241379\n"
     ]
    }
   ],
   "source": [
    "from sklearn.model_selection import train_test_split\n",
    "from sklearn.preprocessing import StandardScaler\n",
    "\n",
    "# 4. Split train/validation/test\n",
    "X = df.drop('Outcome', axis=1)\n",
    "y = df['Outcome']\n",
    "\n",
    "# 60% train, 40% temp (validation + test)\n",
    "X_train, X_temp, y_train, y_temp = train_test_split(X, y, test_size=0.4, random_state=42, stratify=y)\n",
    "\n",
    "# 20% validation, 20% test\n",
    "X_val, X_test, y_val, y_test = train_test_split(X_temp, y_temp, test_size=0.5, random_state=42, stratify=y_temp)\n",
    "\n",
    "# 5. Feature Engineering (standardisation)\n",
    "scaler = StandardScaler()\n",
    "\n",
    "X_train_scaled = scaler.fit_transform(X_train)\n",
    "X_val_scaled = scaler.transform(X_val)\n",
    "X_test_scaled = scaler.transform(X_test)\n",
    "\n",
    "# 6. Gestion du déséquilibre\n",
    "from sklearn.linear_model import LogisticRegression\n",
    "from sklearn.metrics import accuracy_score, precision_score, recall_score, f1_score\n",
    "\n",
    "# Logistic Regression avec class_weight équilibré\n",
    "model = LogisticRegression(class_weight='balanced', random_state=42)\n",
    "\n",
    "# Entraînement\n",
    "model.fit(X_train_scaled, y_train)\n",
    "\n",
    "# Évaluation sur validation\n",
    "y_val_pred = model.predict(X_val_scaled)\n",
    "\n",
    "# 7. Modélisation initiale avec Logistic Regression\n",
    "# Metriques\n",
    "print(\"Validation Accuracy:\", accuracy_score(y_val, y_val_pred))\n",
    "print(\"Validation Precision:\", precision_score(y_val, y_val_pred))\n",
    "print(\"Validation Recall:\", recall_score(y_val, y_val_pred))\n",
    "print(\"Validation F1 Score:\", f1_score(y_val, y_val_pred))"
   ]
  },
  {
   "cell_type": "code",
   "execution_count": 27,
   "id": "4312c419-ac93-46ac-b81e-1591f51af364",
   "metadata": {},
   "outputs": [
    {
     "data": {
      "image/png": "[encoded data removed]",
      "text/plain": [
       "<Figure size 640x480 with 2 Axes>"
      ]
     },
     "metadata": {},
     "output_type": "display_data"
    },
    {
     "name": "stdout",
     "output_type": "stream",
     "text": [
      "Test Accuracy: 0.7207792207792207\n",
      "Test Precision: 0.5806451612903226\n",
      "Test Recall: 0.6792452830188679\n",
      "Test F1 Score: 0.6260869565217392\n"
     ]
    }
   ],
   "source": [
    "# 8. Évaluation finale sur test set\n",
    "from sklearn.metrics import confusion_matrix, ConfusionMatrixDisplay\n",
    "\n",
    "y_test_pred = model.predict(X_test_scaled)\n",
    "\n",
    "# Matrice de confusion\n",
    "cm = confusion_matrix(y_test, y_test_pred)\n",
    "ConfusionMatrixDisplay(confusion_matrix=cm, display_labels=model.classes_).plot()\n",
    "plt.title('Matrice de confusion sur Test Set')\n",
    "plt.show()\n",
    "\n",
    "# Scores finaux\n",
    "print(\"Test Accuracy:\", accuracy_score(y_test, y_test_pred))\n",
    "print(\"Test Precision:\", precision_score(y_test, y_test_pred))\n",
    "print(\"Test Recall:\", recall_score(y_test, y_test_pred))\n",
    "print(\"Test F1 Score:\", f1_score(y_test, y_test_pred))\n"
   ]
  },
  {
   "cell_type": "code",
   "execution_count": 28,
   "id": "578d174f-4dbf-4260-b2c6-92701afde755",
   "metadata": {},
   "outputs": [
    {
     "data": {
      "image/png": "[encoded data removed]",
      "text/plain": [
       "<Figure size 640x480 with 1 Axes>"
      ]
     },
     "metadata": {},
     "output_type": "display_data"
    },
    {
     "name": "stdout",
     "output_type": "stream",
     "text": [
      "Nombre de faux positifs (FP) : 26\n",
      "Nombre de faux négatifs (FN) : 17\n"
     ]
    }
   ],
   "source": [
    "# 9. Explainability — Importance des features et analyse des erreurs\n",
    "import pandas as pd\n",
    "\n",
    "# Importance des features (coefficients du modèle)\n",
    "importance = pd.Series(model.coef_[0], index=X.columns)\n",
    "importance.sort_values().plot(kind='barh', title='Importance des caractéristiques')\n",
    "plt.show()\n",
    "\n",
    "# Analyse des erreurs\n",
    "results = pd.DataFrame({'Actual': y_test, 'Predicted': y_test_pred})\n",
    "false_positives = results[(results['Actual'] == 0) & (results['Predicted'] == 1)].shape[0]\n",
    "false_negatives = results[(results['Actual'] == 1) & (results['Predicted'] == 0)].shape[0]\n",
    "\n",
    "print(f\"Nombre de faux positifs (FP) : {false_positives}\")\n",
    "print(f\"Nombre de faux négatifs (FN) : {false_negatives}\")\n"
   ]
  },
  {
   "cell_type": "markdown",
   "id": "413b6ceb-43f7-4c11-8e86-2a22fc4df0ba",
   "metadata": {},
   "source": [
    "## 10. Conclusions et recommandations\n",
    "- Scores élevés de Recall : Le modèle détecte bien la majorité des cas positifs (diabétiques), ce qui est crucial dans le contexte médical.\n",
    "- Analyse des faux négatifs : Ces cas sont les plus critiques. Il faut les examinés en détail pour comprendre pourquoi ils ne sont pas détectés.\n",
    "- Importance des caractéristiques : Cela peut aider les experts médicaux à comprendre les facteurs prédictifs les plus importants du diabète.\n",
    "\n",
    "## Recommandations :\n",
    "- Utilisez le modèle avec une surveillance continue des performances et une attention particulière aux faux négatifs.\n",
    "- Collectez davantage de données, surtout sur les cas mal prédits, pour continuer à améliorer le modèle à long terme.\n",
    "- Collaborez avec des experts médicaux afin de valider l'interprétabilité clinique du modèle.\n"
   ]
  },
  {
   "cell_type": "code",
   "execution_count": null,
   "id": "2a7a0cfb-0cb9-4c8f-9229-1ad691d6eb6c",
   "metadata": {},
   "outputs": [],
   "source": []
  }
 ],
 "metadata": {
  "kernelspec": {
   "display_name": "Python 3 (ipykernel)",
   "language": "python",
   "name": "python3"
  },
  "language_info": {
   "codemirror_mode": {
    "name": "ipython",
    "version": 3
   },
   "file_extension": ".py",
   "mimetype": "text/x-python",
   "name": "python",
   "nbconvert_exporter": "python",
   "pygments_lexer": "ipython3",
   "version": "3.13.3"
  }
 },
 "nbformat": 4,
 "nbformat_minor": 5
}
